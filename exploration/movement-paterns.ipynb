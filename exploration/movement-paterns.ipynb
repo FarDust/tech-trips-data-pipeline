{
 "cells": [
  {
   "cell_type": "markdown",
   "metadata": {},
   "source": [
    "\n",
    "# People Movement Patterns Study"
   ]
  },
  {
   "cell_type": "markdown",
   "metadata": {},
   "source": [
    "## README"
   ]
  },
  {
   "cell_type": "markdown",
   "metadata": {},
   "source": [
    "Para ejecutar este proyecto es necesario tener instalado al menos Python 3.9 y Poetry\n",
    "\n",
    "- Instalar Poetry: https://python-poetry.org/docs/#installation\n",
    "- Instalar dependencias: poetry install\n",
    "\n",
    "## Estructura del proyecto\n",
    "\n",
    "- `data`: Contiene los datos de entrada y salida del proyecto\n",
    "- `exploration`: Contiene los notebooks de exploración de datos\n",
    "- `apps`: Contiene el código necesario para ejecutar la aplicación\n",
    "\n",
    "La forma sencilla de ejecutar la aplicación es mediante el comando `poetry run python apps/<application>`\n",
    "\n",
    "## Aplicaciones\n",
    "\n",
    "- `landing_phase`: Encargada de transformar los datos de entrada a un formato apto para manipularlos en el siguiente paso\n",
    "- `transformation_phase`: Esta etapa consolida los datos de entrada y los transforma en un formato apto para ser analizados\n",
    "- `mean_trips`: Servicio que permite obtener el promedio de viajes por día de la semana dado un bounding box\n",
    "\n",
    "## Ejecución de la aplicación\n",
    "\n",
    "- `landing_phase`: `poetry run python apps/landing_phase`\n",
    "- `transformation_phase`: `poetry run python apps/transformation_phase`\n",
    "- `mean_trips`: `poetry run python apps/mean_trips/main.py`\n",
    "\n",
    "Las aplicaciones deben ser ejecutadas en el orden indicado para que el resultado sea el esperado (landing_phase -> transformation_phase -> mean_trips) esto es dado que la responsabilidad de crear las tablas necesarias para la aplicación `mean_trips` es de la aplicación `transformation_phase` y no de la aplicación `landing_phase`.\n"
   ]
  },
  {
   "cell_type": "markdown",
   "metadata": {},
   "source": [
    "## 1. Automated processes to ingest and store data on demand"
   ]
  },
  {
   "cell_type": "markdown",
   "metadata": {},
   "source": [
    "### a. Similar trips are grouped together\n",
    "> group rule (origin, destination, time of day)"
   ]
  },
  {
   "cell_type": "markdown",
   "metadata": {},
   "source": [
    "Esto describe de forma no optimizada para trabajo en batches la funcionalidad de `apps/transformation_phase/transformation_phase/infrastructure/api/cluster_api.py` y `apps/transformation_phase/transformation_phase/infrastructure/storage/sql_output_storage.py`. El objetivo es que el código sea lo más legible posible, y que sea fácil de entender qué hace cada parte del código. Pero para ver la version optimizada para trabajo en batches, ver los archivos mencionados."
   ]
  },
  {
   "cell_type": "code",
   "execution_count": 21,
   "metadata": {},
   "outputs": [],
   "source": [
    "import pandas as pd\n",
    "from numpy import radians\n",
    "\n",
    "columns=['region','origin_coord','destination_coord','datetime','datasource']\n",
    "# Read the data\n",
    "df = pd.read_csv('../data/landing/trips.csv', sep=',')"
   ]
  },
  {
   "cell_type": "code",
   "execution_count": 22,
   "metadata": {},
   "outputs": [
    {
     "data": {
      "text/plain": [
       "array(['Hamburg', 'Prague', 'Turin'], dtype=object)"
      ]
     },
     "execution_count": 22,
     "metadata": {},
     "output_type": "execute_result"
    }
   ],
   "source": [
    "import numpy as np\n",
    "np.unique(df['region'])"
   ]
  },
  {
   "cell_type": "markdown",
   "metadata": {},
   "source": [
    "Trabajamos por region dado que nuestra métrica final esta particionada por este campo. Por lo cual nunca tendra sentido procesar un batch mas grande que una region."
   ]
  },
  {
   "cell_type": "code",
   "execution_count": 23,
   "metadata": {},
   "outputs": [
    {
     "data": {
      "text/html": [
       "<div>\n",
       "<style scoped>\n",
       "    .dataframe tbody tr th:only-of-type {\n",
       "        vertical-align: middle;\n",
       "    }\n",
       "\n",
       "    .dataframe tbody tr th {\n",
       "        vertical-align: top;\n",
       "    }\n",
       "\n",
       "    .dataframe thead th {\n",
       "        text-align: right;\n",
       "    }\n",
       "</style>\n",
       "<table border=\"1\" class=\"dataframe\">\n",
       "  <thead>\n",
       "    <tr style=\"text-align: right;\">\n",
       "      <th></th>\n",
       "      <th>region</th>\n",
       "      <th>origin_coord</th>\n",
       "      <th>destination_coord</th>\n",
       "      <th>datetime</th>\n",
       "      <th>datasource</th>\n",
       "    </tr>\n",
       "  </thead>\n",
       "  <tbody>\n",
       "    <tr>\n",
       "      <th>1</th>\n",
       "      <td>Turin</td>\n",
       "      <td>POINT (7.672837913286881 44.9957109242058)</td>\n",
       "      <td>POINT (7.720368637535126 45.06782385393849)</td>\n",
       "      <td>2018-05-21 02:54:04</td>\n",
       "      <td>baba_car</td>\n",
       "    </tr>\n",
       "    <tr>\n",
       "      <th>3</th>\n",
       "      <td>Turin</td>\n",
       "      <td>POINT (7.541509189114433 45.09160503827746)</td>\n",
       "      <td>POINT (7.74528653441973 45.02628598341506)</td>\n",
       "      <td>2018-05-06 09:49:16</td>\n",
       "      <td>bad_diesel_vehicles</td>\n",
       "    </tr>\n",
       "    <tr>\n",
       "      <th>4</th>\n",
       "      <td>Turin</td>\n",
       "      <td>POINT (7.614078119815749 45.13433106465422)</td>\n",
       "      <td>POINT (7.527497142312585 45.03335051325654)</td>\n",
       "      <td>2018-05-23 12:45:54</td>\n",
       "      <td>pt_search_app</td>\n",
       "    </tr>\n",
       "    <tr>\n",
       "      <th>7</th>\n",
       "      <td>Turin</td>\n",
       "      <td>POINT (7.560785081962462 45.01901608530191)</td>\n",
       "      <td>POINT (7.583568695710608 45.10526898076209)</td>\n",
       "      <td>2018-05-06 00:00:44</td>\n",
       "      <td>cheap_mobile</td>\n",
       "    </tr>\n",
       "    <tr>\n",
       "      <th>8</th>\n",
       "      <td>Turin</td>\n",
       "      <td>POINT (7.702418079996892 45.05754972796922)</td>\n",
       "      <td>POINT (7.623229346744799 44.99969774086024)</td>\n",
       "      <td>2018-05-14 02:07:30</td>\n",
       "      <td>cheap_mobile</td>\n",
       "    </tr>\n",
       "  </tbody>\n",
       "</table>\n",
       "</div>"
      ],
      "text/plain": [
       "  region                                 origin_coord  \\\n",
       "1  Turin   POINT (7.672837913286881 44.9957109242058)   \n",
       "3  Turin  POINT (7.541509189114433 45.09160503827746)   \n",
       "4  Turin  POINT (7.614078119815749 45.13433106465422)   \n",
       "7  Turin  POINT (7.560785081962462 45.01901608530191)   \n",
       "8  Turin  POINT (7.702418079996892 45.05754972796922)   \n",
       "\n",
       "                             destination_coord            datetime  \\\n",
       "1  POINT (7.720368637535126 45.06782385393849) 2018-05-21 02:54:04   \n",
       "3   POINT (7.74528653441973 45.02628598341506) 2018-05-06 09:49:16   \n",
       "4  POINT (7.527497142312585 45.03335051325654) 2018-05-23 12:45:54   \n",
       "7  POINT (7.583568695710608 45.10526898076209) 2018-05-06 00:00:44   \n",
       "8  POINT (7.623229346744799 44.99969774086024) 2018-05-14 02:07:30   \n",
       "\n",
       "            datasource  \n",
       "1             baba_car  \n",
       "3  bad_diesel_vehicles  \n",
       "4        pt_search_app  \n",
       "7         cheap_mobile  \n",
       "8         cheap_mobile  "
      ]
     },
     "execution_count": 23,
     "metadata": {},
     "output_type": "execute_result"
    }
   ],
   "source": [
    "\n",
    "df = df[df['region'] == 'Turin']\n",
    "df['datetime'] = pd.to_datetime(df['datetime'])\n",
    "df.head()"
   ]
  },
  {
   "cell_type": "markdown",
   "metadata": {},
   "source": [
    "Aquí nose si es el standard pero dado un punto `POINT (Lat Lon)` me di cuenta viendo los mapas y los datos que para todas las region la latitud y la longitud estan en el orden inverso, es decir `POINT (Lon Lat)` y no `POINT (Lat Lon)` como se espera. Por lo tanto, en la transformación de los datos de entrada se debe invertir el orden de las columnas."
   ]
  },
  {
   "cell_type": "code",
   "execution_count": 24,
   "metadata": {},
   "outputs": [
    {
     "data": {
      "text/html": [
       "<div>\n",
       "<style scoped>\n",
       "    .dataframe tbody tr th:only-of-type {\n",
       "        vertical-align: middle;\n",
       "    }\n",
       "\n",
       "    .dataframe tbody tr th {\n",
       "        vertical-align: top;\n",
       "    }\n",
       "\n",
       "    .dataframe thead th {\n",
       "        text-align: right;\n",
       "    }\n",
       "</style>\n",
       "<table border=\"1\" class=\"dataframe\">\n",
       "  <thead>\n",
       "    <tr style=\"text-align: right;\">\n",
       "      <th></th>\n",
       "      <th>origin_lon</th>\n",
       "      <th>origin_lat</th>\n",
       "      <th>destination_lon</th>\n",
       "      <th>destination_lat</th>\n",
       "    </tr>\n",
       "  </thead>\n",
       "  <tbody>\n",
       "    <tr>\n",
       "      <th>1</th>\n",
       "      <td>0.133916</td>\n",
       "      <td>0.785323</td>\n",
       "      <td>0.134746</td>\n",
       "      <td>0.786582</td>\n",
       "    </tr>\n",
       "    <tr>\n",
       "      <th>3</th>\n",
       "      <td>0.131624</td>\n",
       "      <td>0.786997</td>\n",
       "      <td>0.135181</td>\n",
       "      <td>0.785857</td>\n",
       "    </tr>\n",
       "    <tr>\n",
       "      <th>4</th>\n",
       "      <td>0.132891</td>\n",
       "      <td>0.787743</td>\n",
       "      <td>0.131380</td>\n",
       "      <td>0.785980</td>\n",
       "    </tr>\n",
       "    <tr>\n",
       "      <th>7</th>\n",
       "      <td>0.131961</td>\n",
       "      <td>0.785730</td>\n",
       "      <td>0.132358</td>\n",
       "      <td>0.787235</td>\n",
       "    </tr>\n",
       "    <tr>\n",
       "      <th>8</th>\n",
       "      <td>0.134433</td>\n",
       "      <td>0.786403</td>\n",
       "      <td>0.133050</td>\n",
       "      <td>0.785393</td>\n",
       "    </tr>\n",
       "  </tbody>\n",
       "</table>\n",
       "</div>"
      ],
      "text/plain": [
       "   origin_lon  origin_lat  destination_lon  destination_lat\n",
       "1    0.133916    0.785323         0.134746         0.786582\n",
       "3    0.131624    0.786997         0.135181         0.785857\n",
       "4    0.132891    0.787743         0.131380         0.785980\n",
       "7    0.131961    0.785730         0.132358         0.787235\n",
       "8    0.134433    0.786403         0.133050         0.785393"
      ]
     },
     "execution_count": 24,
     "metadata": {},
     "output_type": "execute_result"
    }
   ],
   "source": [
    "clean_df = df.loc[:, ['origin_coord', 'destination_coord', 'datetime']]\n",
    "\n",
    "\n",
    "# Separate point coordinates\n",
    "splitted_origin = clean_df['origin_coord'].str.strip(' ').str.split(pat=' ', expand=True)\n",
    "splitted_destination = clean_df['destination_coord'].str.strip(' ').str.split(pat=' ', expand=True)\n",
    "clean_df['origin_lon'] = splitted_origin[1].str.replace('(','', regex=False).astype(float)\n",
    "clean_df['origin_lat'] = splitted_origin[2].str.replace(')','', regex=False).astype(float)\n",
    "clean_df['destination_lon'] = splitted_destination[1].str.replace('(','', regex=False).astype(float)\n",
    "clean_df['destination_lat'] = splitted_destination[2].str.replace(')','', regex=False).astype(float)\n",
    "clean_df.drop(['origin_coord', 'destination_coord'], axis=1, inplace=True)\n",
    "\n",
    "\n",
    "# Get hour of the day\n",
    "clean_df['hour'] = clean_df['datetime'].dt.hour\n",
    "clean_df.pop('datetime')\n",
    "classification_df = clean_df.copy()\n",
    "classification_df.pop('hour')\n",
    "classification_df['destination_lat'] = radians(clean_df['destination_lat'])\n",
    "classification_df['destination_lon'] = radians(clean_df['destination_lon'])\n",
    "classification_df['origin_lat'] = radians(clean_df['origin_lat'])\n",
    "classification_df['origin_lon'] = radians(clean_df['origin_lon'])\n",
    "\n",
    "classification_df.head()\n"
   ]
  },
  {
   "cell_type": "code",
   "execution_count": 25,
   "metadata": {},
   "outputs": [],
   "source": [
    "import numpy as np\n",
    "# https://kanoki.org/2019/12/27/how-to-calculate-distance-in-python-and-pandas-using-scipy-spatial-and-distance-functions/\n",
    "\n",
    "def haversine_vectorize(lon1, lat1, lon2, lat2):\n",
    "\n",
    "    newlon = lon2 - lon1\n",
    "    newlat = lat2 - lat1\n",
    "\n",
    "    haver_formula = np.sin(newlat/2.0)**2 + np.cos(lat1) * np.cos(lat2) * np.sin(newlon/2.0)**2\n",
    "\n",
    "    dist = 2 * np.arcsin(np.sqrt(haver_formula ))\n",
    "    km = 6367 * dist #6367 for distance in KM for miles use 3958\n",
    "    return km"
   ]
  },
  {
   "cell_type": "markdown",
   "metadata": {},
   "source": [
    "Aqui agrego la distancia entre el origen y el destino, para poder identificar los viajes que son similares. Para esto se utiliza la formula de Haversine. La distancia se calcula en kilometros."
   ]
  },
  {
   "cell_type": "code",
   "execution_count": 26,
   "metadata": {},
   "outputs": [],
   "source": [
    "classification_df[\"harversine_distance\"] = haversine_vectorize(\n",
    "    classification_df['origin_lon'],\n",
    "    classification_df['origin_lat'],\n",
    "    classification_df['destination_lon'],\n",
    "    classification_df['destination_lat']\n",
    "    )"
   ]
  },
  {
   "cell_type": "markdown",
   "metadata": {},
   "source": [
    "Luego para cada viaje genero un modelo de clusterizacion utilizando una Bayesian Gaussian Mixture, pues permite identificar automaticamente la cantidad de clusters necesarios. El modelo tiene que ser local a los datos procesados dado el principio de localidad (Datos recibidos en tiempos similares seran mas similares que datos recibidos en tiempos diferentes). Para esto se utiliza el modelo `apps/transformation_phase/transformation_phase/infrastructure/api/cluster_api.py` que se encarga de generar el modelo de clusterizacion dada una division por hora y region de los datos de entrada. El modelo no se guarda en ningun lado, solo se utiliza para generar los clusters de manera dinamica mediante el procesamiento del stream de datos."
   ]
  },
  {
   "cell_type": "code",
   "execution_count": 27,
   "metadata": {},
   "outputs": [
    {
     "data": {
      "text/html": [
       "<style>#sk-container-id-2 {color: black;background-color: white;}#sk-container-id-2 pre{padding: 0;}#sk-container-id-2 div.sk-toggleable {background-color: white;}#sk-container-id-2 label.sk-toggleable__label {cursor: pointer;display: block;width: 100%;margin-bottom: 0;padding: 0.3em;box-sizing: border-box;text-align: center;}#sk-container-id-2 label.sk-toggleable__label-arrow:before {content: \"▸\";float: left;margin-right: 0.25em;color: #696969;}#sk-container-id-2 label.sk-toggleable__label-arrow:hover:before {color: black;}#sk-container-id-2 div.sk-estimator:hover label.sk-toggleable__label-arrow:before {color: black;}#sk-container-id-2 div.sk-toggleable__content {max-height: 0;max-width: 0;overflow: hidden;text-align: left;background-color: #f0f8ff;}#sk-container-id-2 div.sk-toggleable__content pre {margin: 0.2em;color: black;border-radius: 0.25em;background-color: #f0f8ff;}#sk-container-id-2 input.sk-toggleable__control:checked~div.sk-toggleable__content {max-height: 200px;max-width: 100%;overflow: auto;}#sk-container-id-2 input.sk-toggleable__control:checked~label.sk-toggleable__label-arrow:before {content: \"▾\";}#sk-container-id-2 div.sk-estimator input.sk-toggleable__control:checked~label.sk-toggleable__label {background-color: #d4ebff;}#sk-container-id-2 div.sk-label input.sk-toggleable__control:checked~label.sk-toggleable__label {background-color: #d4ebff;}#sk-container-id-2 input.sk-hidden--visually {border: 0;clip: rect(1px 1px 1px 1px);clip: rect(1px, 1px, 1px, 1px);height: 1px;margin: -1px;overflow: hidden;padding: 0;position: absolute;width: 1px;}#sk-container-id-2 div.sk-estimator {font-family: monospace;background-color: #f0f8ff;border: 1px dotted black;border-radius: 0.25em;box-sizing: border-box;margin-bottom: 0.5em;}#sk-container-id-2 div.sk-estimator:hover {background-color: #d4ebff;}#sk-container-id-2 div.sk-parallel-item::after {content: \"\";width: 100%;border-bottom: 1px solid gray;flex-grow: 1;}#sk-container-id-2 div.sk-label:hover label.sk-toggleable__label {background-color: #d4ebff;}#sk-container-id-2 div.sk-serial::before {content: \"\";position: absolute;border-left: 1px solid gray;box-sizing: border-box;top: 0;bottom: 0;left: 50%;z-index: 0;}#sk-container-id-2 div.sk-serial {display: flex;flex-direction: column;align-items: center;background-color: white;padding-right: 0.2em;padding-left: 0.2em;position: relative;}#sk-container-id-2 div.sk-item {position: relative;z-index: 1;}#sk-container-id-2 div.sk-parallel {display: flex;align-items: stretch;justify-content: center;background-color: white;position: relative;}#sk-container-id-2 div.sk-item::before, #sk-container-id-2 div.sk-parallel-item::before {content: \"\";position: absolute;border-left: 1px solid gray;box-sizing: border-box;top: 0;bottom: 0;left: 50%;z-index: -1;}#sk-container-id-2 div.sk-parallel-item {display: flex;flex-direction: column;z-index: 1;position: relative;background-color: white;}#sk-container-id-2 div.sk-parallel-item:first-child::after {align-self: flex-end;width: 50%;}#sk-container-id-2 div.sk-parallel-item:last-child::after {align-self: flex-start;width: 50%;}#sk-container-id-2 div.sk-parallel-item:only-child::after {width: 0;}#sk-container-id-2 div.sk-dashed-wrapped {border: 1px dashed gray;margin: 0 0.4em 0.5em 0.4em;box-sizing: border-box;padding-bottom: 0.4em;background-color: white;}#sk-container-id-2 div.sk-label label {font-family: monospace;font-weight: bold;display: inline-block;line-height: 1.2em;}#sk-container-id-2 div.sk-label-container {text-align: center;}#sk-container-id-2 div.sk-container {/* jupyter's `normalize.less` sets `[hidden] { display: none; }` but bootstrap.min.css set `[hidden] { display: none !important; }` so we also need the `!important` here to be able to override the default hidden behavior on the sphinx rendered scikit-learn.org. See: https://github.com/scikit-learn/scikit-learn/issues/21755 */display: inline-block !important;position: relative;}#sk-container-id-2 div.sk-text-repr-fallback {display: none;}</style><div id=\"sk-container-id-2\" class=\"sk-top-container\"><div class=\"sk-text-repr-fallback\"><pre>BayesianGaussianMixture(covariance_type=&#x27;spherical&#x27;, max_iter=1000,\n",
       "                        n_components=20)</pre><b>In a Jupyter environment, please rerun this cell to show the HTML representation or trust the notebook. <br />On GitHub, the HTML representation is unable to render, please try loading this page with nbviewer.org.</b></div><div class=\"sk-container\" hidden><div class=\"sk-item\"><div class=\"sk-estimator sk-toggleable\"><input class=\"sk-toggleable__control sk-hidden--visually\" id=\"sk-estimator-id-2\" type=\"checkbox\" checked><label for=\"sk-estimator-id-2\" class=\"sk-toggleable__label sk-toggleable__label-arrow\">BayesianGaussianMixture</label><div class=\"sk-toggleable__content\"><pre>BayesianGaussianMixture(covariance_type=&#x27;spherical&#x27;, max_iter=1000,\n",
       "                        n_components=20)</pre></div></div></div></div></div>"
      ],
      "text/plain": [
       "BayesianGaussianMixture(covariance_type='spherical', max_iter=1000,\n",
       "                        n_components=20)"
      ]
     },
     "execution_count": 27,
     "metadata": {},
     "output_type": "execute_result"
    }
   ],
   "source": [
    "from sklearn.mixture import BayesianGaussianMixture\n",
    "\n",
    "model = BayesianGaussianMixture(n_components=20, covariance_type='spherical', max_iter=1000)\n",
    "\n",
    "# Fit the model\n",
    "\n",
    "model.fit(classification_df)"
   ]
  },
  {
   "cell_type": "code",
   "execution_count": 28,
   "metadata": {},
   "outputs": [
    {
     "name": "stdout",
     "output_type": "stream",
     "text": [
      "Number of clusters: 3\n"
     ]
    },
    {
     "data": {
      "text/html": [
       "<div>\n",
       "<style scoped>\n",
       "    .dataframe tbody tr th:only-of-type {\n",
       "        vertical-align: middle;\n",
       "    }\n",
       "\n",
       "    .dataframe tbody tr th {\n",
       "        vertical-align: top;\n",
       "    }\n",
       "\n",
       "    .dataframe thead th {\n",
       "        text-align: right;\n",
       "    }\n",
       "</style>\n",
       "<table border=\"1\" class=\"dataframe\">\n",
       "  <thead>\n",
       "    <tr style=\"text-align: right;\">\n",
       "      <th></th>\n",
       "      <th>origin_lon</th>\n",
       "      <th>origin_lat</th>\n",
       "      <th>destination_lon</th>\n",
       "      <th>destination_lat</th>\n",
       "      <th>harversine_distance</th>\n",
       "      <th>cluster</th>\n",
       "    </tr>\n",
       "  </thead>\n",
       "  <tbody>\n",
       "    <tr>\n",
       "      <th>1</th>\n",
       "      <td>0.133916</td>\n",
       "      <td>0.785323</td>\n",
       "      <td>0.134746</td>\n",
       "      <td>0.786582</td>\n",
       "      <td>8.840285</td>\n",
       "      <td>2</td>\n",
       "    </tr>\n",
       "    <tr>\n",
       "      <th>3</th>\n",
       "      <td>0.131624</td>\n",
       "      <td>0.786997</td>\n",
       "      <td>0.135181</td>\n",
       "      <td>0.785857</td>\n",
       "      <td>17.565658</td>\n",
       "      <td>16</td>\n",
       "    </tr>\n",
       "    <tr>\n",
       "      <th>4</th>\n",
       "      <td>0.132891</td>\n",
       "      <td>0.787743</td>\n",
       "      <td>0.131380</td>\n",
       "      <td>0.785980</td>\n",
       "      <td>13.117580</td>\n",
       "      <td>16</td>\n",
       "    </tr>\n",
       "    <tr>\n",
       "      <th>7</th>\n",
       "      <td>0.131961</td>\n",
       "      <td>0.785730</td>\n",
       "      <td>0.132358</td>\n",
       "      <td>0.787235</td>\n",
       "      <td>9.750268</td>\n",
       "      <td>2</td>\n",
       "    </tr>\n",
       "    <tr>\n",
       "      <th>8</th>\n",
       "      <td>0.134433</td>\n",
       "      <td>0.786403</td>\n",
       "      <td>0.133050</td>\n",
       "      <td>0.785393</td>\n",
       "      <td>8.944810</td>\n",
       "      <td>2</td>\n",
       "    </tr>\n",
       "  </tbody>\n",
       "</table>\n",
       "</div>"
      ],
      "text/plain": [
       "   origin_lon  origin_lat  destination_lon  destination_lat  \\\n",
       "1    0.133916    0.785323         0.134746         0.786582   \n",
       "3    0.131624    0.786997         0.135181         0.785857   \n",
       "4    0.132891    0.787743         0.131380         0.785980   \n",
       "7    0.131961    0.785730         0.132358         0.787235   \n",
       "8    0.134433    0.786403         0.133050         0.785393   \n",
       "\n",
       "   harversine_distance  cluster  \n",
       "1             8.840285        2  \n",
       "3            17.565658       16  \n",
       "4            13.117580       16  \n",
       "7             9.750268        2  \n",
       "8             8.944810        2  "
      ]
     },
     "execution_count": 28,
     "metadata": {},
     "output_type": "execute_result"
    }
   ],
   "source": [
    "import numpy as np\n",
    "from pandas import DataFrame\n",
    "from sklearn.preprocessing import MinMaxScaler\n",
    "\n",
    "min_max_scaler = MinMaxScaler()\n",
    "\n",
    "classified_trips = classification_df.copy()\n",
    "classified_trips = DataFrame(classified_trips.values, columns=classified_trips.columns, index=classified_trips.index)\n",
    "\n",
    "classified_trips['cluster'] = model.predict(classification_df)\n",
    "print('Number of clusters: {}'.format(len(classified_trips['cluster'].unique())))\n",
    "classified_trips.head()"
   ]
  },
  {
   "cell_type": "code",
   "execution_count": 29,
   "metadata": {},
   "outputs": [
    {
     "data": {
      "text/html": [
       "<div>\n",
       "<style scoped>\n",
       "    .dataframe tbody tr th:only-of-type {\n",
       "        vertical-align: middle;\n",
       "    }\n",
       "\n",
       "    .dataframe tbody tr th {\n",
       "        vertical-align: top;\n",
       "    }\n",
       "\n",
       "    .dataframe thead th {\n",
       "        text-align: right;\n",
       "    }\n",
       "</style>\n",
       "<table border=\"1\" class=\"dataframe\">\n",
       "  <thead>\n",
       "    <tr style=\"text-align: right;\">\n",
       "      <th></th>\n",
       "      <th>x</th>\n",
       "      <th>y</th>\n",
       "      <th>cluster</th>\n",
       "    </tr>\n",
       "  </thead>\n",
       "  <tbody>\n",
       "    <tr>\n",
       "      <th>1</th>\n",
       "      <td>-0.206935</td>\n",
       "      <td>-0.001406</td>\n",
       "      <td>2</td>\n",
       "    </tr>\n",
       "    <tr>\n",
       "      <th>3</th>\n",
       "      <td>8.518438</td>\n",
       "      <td>-0.001048</td>\n",
       "      <td>16</td>\n",
       "    </tr>\n",
       "    <tr>\n",
       "      <th>4</th>\n",
       "      <td>4.070360</td>\n",
       "      <td>0.002366</td>\n",
       "      <td>16</td>\n",
       "    </tr>\n",
       "    <tr>\n",
       "      <th>7</th>\n",
       "      <td>0.703048</td>\n",
       "      <td>0.001381</td>\n",
       "      <td>2</td>\n",
       "    </tr>\n",
       "    <tr>\n",
       "      <th>8</th>\n",
       "      <td>-0.102410</td>\n",
       "      <td>0.000256</td>\n",
       "      <td>2</td>\n",
       "    </tr>\n",
       "  </tbody>\n",
       "</table>\n",
       "</div>"
      ],
      "text/plain": [
       "          x         y  cluster\n",
       "1 -0.206935 -0.001406        2\n",
       "3  8.518438 -0.001048       16\n",
       "4  4.070360  0.002366       16\n",
       "7  0.703048  0.001381        2\n",
       "8 -0.102410  0.000256        2"
      ]
     },
     "execution_count": 29,
     "metadata": {},
     "output_type": "execute_result"
    }
   ],
   "source": [
    "from sklearn.decomposition import PCA\n",
    "\n",
    "pca = PCA(n_components=2)\n",
    "pca.fit(classification_df)\n",
    "classified_trips_pca = pca.transform(classification_df)\n",
    "classified_trips_pca = DataFrame(classified_trips_pca, columns=['x', 'y'], index=classification_df.index)\n",
    "\n",
    "classified_trips_pca['cluster'] = classified_trips['cluster']\n",
    "classified_trips_pca.head()"
   ]
  },
  {
   "cell_type": "markdown",
   "metadata": {},
   "source": [
    "En la siguiente celda se muestra como se genera el modelo de clusterizacion para una region y una hora en particular.\n",
    "\n",
    "Como se puede observar los puntos son clasificados en 3 clusters bien definidos."
   ]
  },
  {
   "cell_type": "code",
   "execution_count": 30,
   "metadata": {},
   "outputs": [
    {
     "data": {
      "text/plain": [
       "<AxesSubplot: xlabel='x', ylabel='y'>"
      ]
     },
     "execution_count": 30,
     "metadata": {},
     "output_type": "execute_result"
    },
    {
     "data": {
      "image/png": "[encoded data removed]",
      "text/plain": [
       "<Figure size 640x480 with 1 Axes>"
      ]
     },
     "metadata": {},
     "output_type": "display_data"
    }
   ],
   "source": [
    "from seaborn import scatterplot\n",
    "scatterplot(x='x', y='y', hue='cluster', data=classified_trips_pca)"
   ]
  },
  {
   "cell_type": "code",
   "execution_count": 31,
   "metadata": {},
   "outputs": [],
   "source": [
    "df['datetime'] = df['datetime'].view('int64')/ 10**9"
   ]
  },
  {
   "cell_type": "markdown",
   "metadata": {},
   "source": [
    "Agrupo por cluster (viajes similares), region y hora. Esto según el criterio de agrupación previamente definido. "
   ]
  },
  {
   "cell_type": "code",
   "execution_count": 32,
   "metadata": {},
   "outputs": [
    {
     "data": {
      "text/html": [
       "<div>\n",
       "<style scoped>\n",
       "    .dataframe tbody tr th:only-of-type {\n",
       "        vertical-align: middle;\n",
       "    }\n",
       "\n",
       "    .dataframe tbody tr th {\n",
       "        vertical-align: top;\n",
       "    }\n",
       "\n",
       "    .dataframe thead th {\n",
       "        text-align: right;\n",
       "    }\n",
       "</style>\n",
       "<table border=\"1\" class=\"dataframe\">\n",
       "  <thead>\n",
       "    <tr style=\"text-align: right;\">\n",
       "      <th></th>\n",
       "      <th></th>\n",
       "      <th></th>\n",
       "      <th>origin_lat</th>\n",
       "      <th>origin_lon</th>\n",
       "      <th>destination_lat</th>\n",
       "      <th>destination_lon</th>\n",
       "      <th>datetime</th>\n",
       "    </tr>\n",
       "    <tr>\n",
       "      <th>cluster</th>\n",
       "      <th>region</th>\n",
       "      <th>hour</th>\n",
       "      <th></th>\n",
       "      <th></th>\n",
       "      <th></th>\n",
       "      <th></th>\n",
       "      <th></th>\n",
       "    </tr>\n",
       "  </thead>\n",
       "  <tbody>\n",
       "    <tr>\n",
       "      <th rowspan=\"5\" valign=\"top\">1</th>\n",
       "      <th rowspan=\"5\" valign=\"top\">Turin</th>\n",
       "      <th>0</th>\n",
       "      <td>44.996386</td>\n",
       "      <td>7.551998</td>\n",
       "      <td>45.013469</td>\n",
       "      <td>7.531353</td>\n",
       "      <td>1.525221e+09</td>\n",
       "    </tr>\n",
       "    <tr>\n",
       "      <th>4</th>\n",
       "      <td>45.059853</td>\n",
       "      <td>7.598069</td>\n",
       "      <td>45.064887</td>\n",
       "      <td>7.656904</td>\n",
       "      <td>1.526618e+09</td>\n",
       "    </tr>\n",
       "    <tr>\n",
       "      <th>5</th>\n",
       "      <td>45.087936</td>\n",
       "      <td>7.621867</td>\n",
       "      <td>45.096293</td>\n",
       "      <td>7.558481</td>\n",
       "      <td>1.526795e+09</td>\n",
       "    </tr>\n",
       "    <tr>\n",
       "      <th>6</th>\n",
       "      <td>45.086819</td>\n",
       "      <td>7.679991</td>\n",
       "      <td>45.081787</td>\n",
       "      <td>7.655900</td>\n",
       "      <td>1.527143e+09</td>\n",
       "    </tr>\n",
       "    <tr>\n",
       "      <th>7</th>\n",
       "      <td>45.104444</td>\n",
       "      <td>7.720378</td>\n",
       "      <td>45.128276</td>\n",
       "      <td>7.695048</td>\n",
       "      <td>1.525504e+09</td>\n",
       "    </tr>\n",
       "  </tbody>\n",
       "</table>\n",
       "</div>"
      ],
      "text/plain": [
       "                     origin_lat  origin_lon  destination_lat  destination_lon  \\\n",
       "cluster region hour                                                             \n",
       "1       Turin  0      44.996386    7.551998        45.013469         7.531353   \n",
       "               4      45.059853    7.598069        45.064887         7.656904   \n",
       "               5      45.087936    7.621867        45.096293         7.558481   \n",
       "               6      45.086819    7.679991        45.081787         7.655900   \n",
       "               7      45.104444    7.720378        45.128276         7.695048   \n",
       "\n",
       "                         datetime  \n",
       "cluster region hour                \n",
       "1       Turin  0     1.525221e+09  \n",
       "               4     1.526618e+09  \n",
       "               5     1.526795e+09  \n",
       "               6     1.527143e+09  \n",
       "               7     1.525504e+09  "
      ]
     },
     "execution_count": 32,
     "metadata": {},
     "output_type": "execute_result"
    }
   ],
   "source": [
    "datasource = df.loc[:, ['datasource']]\n",
    "base_data = classified_trips.loc[:,['cluster']].join(df).join(clean_df).groupby(['cluster', 'region', 'hour'])[\n",
    "    ['origin_lat', 'origin_lon', 'destination_lat', 'destination_lon', 'datetime']\n",
    "].mean()\n",
    "\n",
    "base_data.head()"
   ]
  },
  {
   "cell_type": "code",
   "execution_count": 33,
   "metadata": {},
   "outputs": [],
   "source": [
    "from sklearn.preprocessing import OneHotEncoder\n",
    "enc = OneHotEncoder()\n",
    "enc.fit(df['datasource'].values.reshape(-1,1))\n",
    "encoded_categories = enc.transform(df['datasource'].values.reshape(-1,1)).toarray()"
   ]
  },
  {
   "cell_type": "code",
   "execution_count": 34,
   "metadata": {},
   "outputs": [
    {
     "data": {
      "text/plain": [
       "array([ 5.,  8., 10.,  4., 11.])"
      ]
     },
     "execution_count": 34,
     "metadata": {},
     "output_type": "execute_result"
    }
   ],
   "source": [
    "encoded_categories.sum(axis=0)"
   ]
  },
  {
   "cell_type": "code",
   "execution_count": 35,
   "metadata": {},
   "outputs": [
    {
     "data": {
      "text/plain": [
       "[array(['baba_car', 'bad_diesel_vehicles', 'cheap_mobile', 'funny_car',\n",
       "        'pt_search_app'], dtype=object)]"
      ]
     },
     "execution_count": 35,
     "metadata": {},
     "output_type": "execute_result"
    }
   ],
   "source": [
    "enc.categories_"
   ]
  },
  {
   "cell_type": "markdown",
   "metadata": {},
   "source": [
    "Aquí agrupo las fuentes de información, a pesar que no son necesarias para la métrica final, preferí no perder información y agruparlas para poder analizarlas en el futuro."
   ]
  },
  {
   "cell_type": "code",
   "execution_count": 36,
   "metadata": {},
   "outputs": [
    {
     "data": {
      "text/html": [
       "<div>\n",
       "<style scoped>\n",
       "    .dataframe tbody tr th:only-of-type {\n",
       "        vertical-align: middle;\n",
       "    }\n",
       "\n",
       "    .dataframe tbody tr th {\n",
       "        vertical-align: top;\n",
       "    }\n",
       "\n",
       "    .dataframe thead th {\n",
       "        text-align: right;\n",
       "    }\n",
       "</style>\n",
       "<table border=\"1\" class=\"dataframe\">\n",
       "  <thead>\n",
       "    <tr style=\"text-align: right;\">\n",
       "      <th></th>\n",
       "      <th></th>\n",
       "      <th></th>\n",
       "      <th>baba_car</th>\n",
       "      <th>bad_diesel_vehicles</th>\n",
       "      <th>cheap_mobile</th>\n",
       "      <th>funny_car</th>\n",
       "      <th>pt_search_app</th>\n",
       "    </tr>\n",
       "    <tr>\n",
       "      <th>cluster</th>\n",
       "      <th>region</th>\n",
       "      <th>hour</th>\n",
       "      <th></th>\n",
       "      <th></th>\n",
       "      <th></th>\n",
       "      <th></th>\n",
       "      <th></th>\n",
       "    </tr>\n",
       "  </thead>\n",
       "  <tbody>\n",
       "    <tr>\n",
       "      <th rowspan=\"5\" valign=\"top\">1</th>\n",
       "      <th rowspan=\"5\" valign=\"top\">Turin</th>\n",
       "      <th>0</th>\n",
       "      <td>0</td>\n",
       "      <td>0</td>\n",
       "      <td>0</td>\n",
       "      <td>0</td>\n",
       "      <td>1</td>\n",
       "    </tr>\n",
       "    <tr>\n",
       "      <th>4</th>\n",
       "      <td>0</td>\n",
       "      <td>0</td>\n",
       "      <td>0</td>\n",
       "      <td>2</td>\n",
       "      <td>0</td>\n",
       "    </tr>\n",
       "    <tr>\n",
       "      <th>5</th>\n",
       "      <td>1</td>\n",
       "      <td>0</td>\n",
       "      <td>0</td>\n",
       "      <td>0</td>\n",
       "      <td>0</td>\n",
       "    </tr>\n",
       "    <tr>\n",
       "      <th>6</th>\n",
       "      <td>0</td>\n",
       "      <td>1</td>\n",
       "      <td>1</td>\n",
       "      <td>0</td>\n",
       "      <td>1</td>\n",
       "    </tr>\n",
       "    <tr>\n",
       "      <th>7</th>\n",
       "      <td>1</td>\n",
       "      <td>0</td>\n",
       "      <td>0</td>\n",
       "      <td>0</td>\n",
       "      <td>0</td>\n",
       "    </tr>\n",
       "  </tbody>\n",
       "</table>\n",
       "</div>"
      ],
      "text/plain": [
       "                     baba_car  bad_diesel_vehicles  cheap_mobile  funny_car  \\\n",
       "cluster region hour                                                           \n",
       "1       Turin  0            0                    0             0          0   \n",
       "               4            0                    0             0          2   \n",
       "               5            1                    0             0          0   \n",
       "               6            0                    1             1          0   \n",
       "               7            1                    0             0          0   \n",
       "\n",
       "                     pt_search_app  \n",
       "cluster region hour                 \n",
       "1       Turin  0                 1  \n",
       "               4                 0  \n",
       "               5                 0  \n",
       "               6                 1  \n",
       "               7                 0  "
      ]
     },
     "execution_count": 36,
     "metadata": {},
     "output_type": "execute_result"
    }
   ],
   "source": [
    "source = classified_trips.loc[:,['cluster']].join(df).join(clean_df).loc[:, [\"cluster\", \"region\", \"hour\"]].join(\n",
    "    pd.DataFrame(encoded_categories, index=df.index)\n",
    ").groupby([\"cluster\", \"region\", \"hour\"]).sum()\n",
    "\n",
    "for datasource in range(enc.categories_[0].shape[0]):\n",
    "    source.rename(columns={datasource: enc.categories_[0][datasource]}, inplace=True)\n",
    "    source[enc.categories_[0][datasource]] = source[enc.categories_[0][datasource]].astype(int)\n",
    "\n",
    "source.head()\n"
   ]
  },
  {
   "cell_type": "code",
   "execution_count": 37,
   "metadata": {},
   "outputs": [
    {
     "name": "stdout",
     "output_type": "stream",
     "text": [
      "(31, 12)\n"
     ]
    },
    {
     "data": {
      "text/html": [
       "<div>\n",
       "<style scoped>\n",
       "    .dataframe tbody tr th:only-of-type {\n",
       "        vertical-align: middle;\n",
       "    }\n",
       "\n",
       "    .dataframe tbody tr th {\n",
       "        vertical-align: top;\n",
       "    }\n",
       "\n",
       "    .dataframe thead th {\n",
       "        text-align: right;\n",
       "    }\n",
       "</style>\n",
       "<table border=\"1\" class=\"dataframe\">\n",
       "  <thead>\n",
       "    <tr style=\"text-align: right;\">\n",
       "      <th></th>\n",
       "      <th>region</th>\n",
       "      <th>hour</th>\n",
       "      <th>origin_lat</th>\n",
       "      <th>origin_lon</th>\n",
       "      <th>destination_lat</th>\n",
       "      <th>destination_lon</th>\n",
       "      <th>datetime</th>\n",
       "      <th>baba_car</th>\n",
       "      <th>bad_diesel_vehicles</th>\n",
       "      <th>cheap_mobile</th>\n",
       "      <th>funny_car</th>\n",
       "      <th>pt_search_app</th>\n",
       "    </tr>\n",
       "  </thead>\n",
       "  <tbody>\n",
       "    <tr>\n",
       "      <th>0</th>\n",
       "      <td>Turin</td>\n",
       "      <td>0</td>\n",
       "      <td>44.996386</td>\n",
       "      <td>7.551998</td>\n",
       "      <td>45.013469</td>\n",
       "      <td>7.531353</td>\n",
       "      <td>2018-05-02 00:22:18.000</td>\n",
       "      <td>0</td>\n",
       "      <td>0</td>\n",
       "      <td>0</td>\n",
       "      <td>0</td>\n",
       "      <td>1</td>\n",
       "    </tr>\n",
       "    <tr>\n",
       "      <th>1</th>\n",
       "      <td>Turin</td>\n",
       "      <td>4</td>\n",
       "      <td>45.059853</td>\n",
       "      <td>7.598069</td>\n",
       "      <td>45.064887</td>\n",
       "      <td>7.656904</td>\n",
       "      <td>2018-05-18 04:26:33.500</td>\n",
       "      <td>0</td>\n",
       "      <td>0</td>\n",
       "      <td>0</td>\n",
       "      <td>2</td>\n",
       "      <td>0</td>\n",
       "    </tr>\n",
       "    <tr>\n",
       "      <th>2</th>\n",
       "      <td>Turin</td>\n",
       "      <td>5</td>\n",
       "      <td>45.087936</td>\n",
       "      <td>7.621867</td>\n",
       "      <td>45.096293</td>\n",
       "      <td>7.558481</td>\n",
       "      <td>2018-05-20 05:39:56.000</td>\n",
       "      <td>1</td>\n",
       "      <td>0</td>\n",
       "      <td>0</td>\n",
       "      <td>0</td>\n",
       "      <td>0</td>\n",
       "    </tr>\n",
       "    <tr>\n",
       "      <th>3</th>\n",
       "      <td>Turin</td>\n",
       "      <td>6</td>\n",
       "      <td>45.086819</td>\n",
       "      <td>7.679991</td>\n",
       "      <td>45.081787</td>\n",
       "      <td>7.655900</td>\n",
       "      <td>2018-05-24 06:22:27.000</td>\n",
       "      <td>0</td>\n",
       "      <td>1</td>\n",
       "      <td>1</td>\n",
       "      <td>0</td>\n",
       "      <td>1</td>\n",
       "    </tr>\n",
       "    <tr>\n",
       "      <th>4</th>\n",
       "      <td>Turin</td>\n",
       "      <td>7</td>\n",
       "      <td>45.104444</td>\n",
       "      <td>7.720378</td>\n",
       "      <td>45.128276</td>\n",
       "      <td>7.695048</td>\n",
       "      <td>2018-05-05 07:05:01.000</td>\n",
       "      <td>1</td>\n",
       "      <td>0</td>\n",
       "      <td>0</td>\n",
       "      <td>0</td>\n",
       "      <td>0</td>\n",
       "    </tr>\n",
       "  </tbody>\n",
       "</table>\n",
       "</div>"
      ],
      "text/plain": [
       "  region  hour  origin_lat  origin_lon  destination_lat  destination_lon  \\\n",
       "0  Turin     0   44.996386    7.551998        45.013469         7.531353   \n",
       "1  Turin     4   45.059853    7.598069        45.064887         7.656904   \n",
       "2  Turin     5   45.087936    7.621867        45.096293         7.558481   \n",
       "3  Turin     6   45.086819    7.679991        45.081787         7.655900   \n",
       "4  Turin     7   45.104444    7.720378        45.128276         7.695048   \n",
       "\n",
       "                 datetime  baba_car  bad_diesel_vehicles  cheap_mobile  \\\n",
       "0 2018-05-02 00:22:18.000         0                    0             0   \n",
       "1 2018-05-18 04:26:33.500         0                    0             0   \n",
       "2 2018-05-20 05:39:56.000         1                    0             0   \n",
       "3 2018-05-24 06:22:27.000         0                    1             1   \n",
       "4 2018-05-05 07:05:01.000         1                    0             0   \n",
       "\n",
       "   funny_car  pt_search_app  \n",
       "0          0              1  \n",
       "1          2              0  \n",
       "2          0              0  \n",
       "3          0              1  \n",
       "4          0              0  "
      ]
     },
     "execution_count": 37,
     "metadata": {},
     "output_type": "execute_result"
    }
   ],
   "source": [
    "final_data = base_data.join(source).reset_index().drop('cluster', axis=1)\n",
    "print(final_data.shape)\n",
    "final_data['datetime'] = pd.to_datetime(final_data['datetime'], unit='s')\n",
    "final_data.head()"
   ]
  },
  {
   "cell_type": "markdown",
   "metadata": {},
   "source": [
    "Lo anterior es equivalente a llamar estos 2 procesos en cadena"
   ]
  },
  {
   "cell_type": "markdown",
   "metadata": {},
   "source": [
    "Transformación de CSV a parquet y particionado por region\n",
    "Equivalente a llamar a:\n",
    "\n",
    "- `python apps/landing_phase/`"
   ]
  },
  {
   "cell_type": "code",
   "execution_count": 38,
   "metadata": {},
   "outputs": [
    {
     "name": "stderr",
     "output_type": "stream",
     "text": [
      "INFO:landing_phase.infrastructure.api.local_notifications:{\"code\": \"TRANSFORMING\", \"message\": \"Received file\", \"file\": \"landing/trips.csv\"}\n",
      "INFO:landing_phase.infrastructure.api.local_notifications:{\"code\": \"TRANSFORMED\", \"message\": \"Chunk of size 0.004128 MB transformed\", \"file\": \"processed\\\\source=trips_transformed\\\\hash=3ef280e4daee4be5d375e2c4b0c3c17b\"}\n"
     ]
    }
   ],
   "source": [
    "import sys\n",
    "\n",
    "sys.path.append('../apps/landing_phase/')\n",
    "\n",
    "from landing_phase.constants.storage import ProtocolType\n",
    "from landing_phase.infrastructure.api.local_notifications import LocalNotifications\n",
    "from landing_phase.infrastructure.storage.input_storage import InputFileStorage\n",
    "from landing_phase.infrastructure.storage.output_storage import OutputFileStorage\n",
    "from landing_phase.use_cases.transform_use_case import TransformUseCase\n",
    "\n",
    "if __name__ == \"__main__\":\n",
    "    from pathlib import Path\n",
    "\n",
    "    bucket_path = str(Path('..').resolve().absolute() / \"data\")\n",
    "\n",
    "    use_cases = {\n",
    "        \"transform\": TransformUseCase(\n",
    "            input_storage=InputFileStorage(protocol=ProtocolType.LOCAL),\n",
    "            output_storage=OutputFileStorage(\n",
    "                bucket_name=bucket_path, protocol=ProtocolType.LOCAL\n",
    "            ),\n",
    "            notifications_api=LocalNotifications(),\n",
    "        )\n",
    "    }\n",
    "\n",
    "    use_case = use_cases.get(\"transform\")\n",
    "\n",
    "    if use_case:\n",
    "        use_case.transform(\n",
    "            bucket_path,\n",
    "            \"trips.csv\",\n",
    "        )"
   ]
  },
  {
   "cell_type": "markdown",
   "metadata": {},
   "source": [
    "Clusterización de datos y guardado en Base de datos SQL compatible con sqlalchemy\n",
    "Equivalente a llamar a:\n",
    "\n",
    "- `python apps/transformation_phase/`"
   ]
  },
  {
   "cell_type": "code",
   "execution_count": 39,
   "metadata": {},
   "outputs": [
    {
     "name": "stderr",
     "output_type": "stream",
     "text": [
      "INFO:transformation_phase.infrastructure.api.local_notifications:{\"code\": \"CLASSIFYING\", \"message\": \"Received file\", \"file\": \"processed/source=trips_transformed\"}\n",
      "INFO:transformation_phase.infrastructure.api.local_notifications:{\"code\": \"TRAINED\", \"message\": \"Chunk of size 0.001248 MB classified\", \"file\": \"processed/source=trips_transformed\"}\n",
      "INFO:transformation_phase.infrastructure.api.local_notifications:{\"code\": \"TRAINED\", \"message\": \"Chunk of size 0.001488 MB classified\", \"file\": \"processed/source=trips_transformed\"}\n",
      "c:\\Users\\Gabriel Faundez\\AppData\\Local\\pypoetry\\Cache\\virtualenvs\\movement-patterns-hAuNFaCb-py3.9\\lib\\site-packages\\sklearn\\mixture\\_base.py:286: ConvergenceWarning: Initialization 1 did not converge. Try different init parameters, or increase max_iter, tol or check for degenerate data.\n",
      "  warnings.warn(\n",
      "INFO:transformation_phase.infrastructure.api.local_notifications:{\"code\": \"TRAINED\", \"message\": \"Chunk of size 0.001648 MB classified\", \"file\": \"processed/source=trips_transformed\"}\n",
      "INFO:transformation_phase.infrastructure.api.local_notifications:{\"code\": \"CLASSIFIED\", \"message\": \"Chunk of size 0.001248 MB classified\", \"file\": \"processed/source=trips_transformed\"}\n",
      "INFO:transformation_phase.infrastructure.api.local_notifications:{\"code\": \"LOCKED\", \"message\": \"Batch bfd97af7698940f9c16e04186bca7ee8 locked\", \"file\": \"source=trips_transformed\"}\n",
      "INFO:transformation_phase.infrastructure.api.local_notifications:{\"code\": \"SUCCESS\", \"message\": \"Batch bfd97af7698940f9c16e04186bca7ee8 successfully processed\", \"file\": \"source=trips_transformed\"}\n",
      "INFO:transformation_phase.infrastructure.api.local_notifications:{\"code\": \"DONE\", \"message\": \"Batch bfd97af7698940f9c16e04186bca7ee8 done\", \"file\": \"source=trips_transformed\"}\n",
      "INFO:transformation_phase.infrastructure.api.local_notifications:{\"code\": \"CLASSIFIED\", \"message\": \"Chunk of size 0.001488 MB classified\", \"file\": \"processed/source=trips_transformed\"}\n",
      "INFO:transformation_phase.infrastructure.api.local_notifications:{\"code\": \"LOCKED\", \"message\": \"Batch a4a0c1e0a951e9fbb6d557553c470b52 locked\", \"file\": \"source=trips_transformed\"}\n",
      "INFO:transformation_phase.infrastructure.api.local_notifications:{\"code\": \"SUCCESS\", \"message\": \"Batch a4a0c1e0a951e9fbb6d557553c470b52 successfully processed\", \"file\": \"source=trips_transformed\"}\n",
      "INFO:transformation_phase.infrastructure.api.local_notifications:{\"code\": \"DONE\", \"message\": \"Batch a4a0c1e0a951e9fbb6d557553c470b52 done\", \"file\": \"source=trips_transformed\"}\n",
      "INFO:transformation_phase.infrastructure.api.local_notifications:{\"code\": \"CLASSIFIED\", \"message\": \"Chunk of size 0.001648 MB classified\", \"file\": \"processed/source=trips_transformed\"}\n",
      "INFO:transformation_phase.infrastructure.api.local_notifications:{\"code\": \"LOCKED\", \"message\": \"Batch 686b4a732436cad4cee0ca4dcc3c77af locked\", \"file\": \"source=trips_transformed\"}\n",
      "INFO:transformation_phase.infrastructure.api.local_notifications:{\"code\": \"SUCCESS\", \"message\": \"Batch 686b4a732436cad4cee0ca4dcc3c77af successfully processed\", \"file\": \"source=trips_transformed\"}\n",
      "INFO:transformation_phase.infrastructure.api.local_notifications:{\"code\": \"DONE\", \"message\": \"Batch 686b4a732436cad4cee0ca4dcc3c77af done\", \"file\": \"source=trips_transformed\"}\n"
     ]
    }
   ],
   "source": [
    "import sys\n",
    "\n",
    "sys.path.append('../apps/transformation_phase/')\n",
    "\n",
    "from sqlalchemy.engine import create_engine\n",
    "from transformation_phase.constants.storage import ProtocolType\n",
    "from transformation_phase.infrastructure.api.cluster_api import (\n",
    "    ClusterClassificationAPI,\n",
    ")\n",
    "from transformation_phase.infrastructure.storage.input_storage import (\n",
    "    InputFileStorage,\n",
    ")\n",
    "from transformation_phase.infrastructure.storage.sql_batch_log_storage import (\n",
    "    SQLBatchLogStorage,\n",
    ")\n",
    "from transformation_phase.infrastructure.storage.sql_output_storage import (\n",
    "    SQLTripsOutputStorage,\n",
    ")\n",
    "from transformation_phase.infrastructure.api.local_notifications import (\n",
    "    LocalNotifications,\n",
    ")\n",
    "from transformation_phase.use_cases.clasify_use_case import ClassifyUseCase\n",
    "from transformation_phase.use_cases.transform_use_case import TransformUseCase\n",
    "\n",
    "DB_CONNECTION_URL = \"sqlite:///../data/processed.db\"\n",
    "\n",
    "if __name__ == \"__main__\":\n",
    "    from pathlib import Path\n",
    "\n",
    "    bucket_path = Path('..').resolve().absolute() / \"data\"\n",
    "    example_file = (\n",
    "        Path(\"source=trips_transformed\")\n",
    "        # / \"hash=8ee3e469366db947933d5d13ba355d26\"\n",
    "        # / \"region=Hamburg\"\n",
    "        # / \"33ba9dc7dd3e47a19163be37b09c6df3-0.parquet\"\n",
    "    )\n",
    "\n",
    "    use_cases = {\n",
    "        \"transform\": TransformUseCase(\n",
    "            output_storage=SQLTripsOutputStorage(\n",
    "                engine=create_engine(\n",
    "                    DB_CONNECTION_URL,\n",
    "                ),\n",
    "            ),\n",
    "            log_storage=SQLBatchLogStorage(\n",
    "                engine=create_engine(\n",
    "                    DB_CONNECTION_URL,\n",
    "                ),\n",
    "            ),\n",
    "            notifications_api=LocalNotifications(),\n",
    "        ),\n",
    "        \"classify\": ClassifyUseCase(\n",
    "            input_storage=InputFileStorage(protocol=ProtocolType.LOCAL),\n",
    "            clustering_api=ClusterClassificationAPI(),\n",
    "            notifications_api=LocalNotifications(),\n",
    "        ),\n",
    "    }\n",
    "\n",
    "    classify_use_case = use_cases[\"classify\"]\n",
    "    transform_use_case = use_cases[\"transform\"]\n",
    "\n",
    "    result = classify_use_case.classify(\n",
    "        bucket=str(bucket_path), name=str(example_file)\n",
    "    )\n",
    "\n",
    "    for output_file in result:\n",
    "        transform_use_case.transform(output_file)\n"
   ]
  },
  {
   "cell_type": "markdown",
   "metadata": {},
   "source": []
  },
  {
   "cell_type": "markdown",
   "metadata": {},
   "source": [
    "## 2. A service to query the data"
   ]
  },
  {
   "cell_type": "markdown",
   "metadata": {},
   "source": [
    "### a. Get a weekly mean of trips defined by a bounding box"
   ]
  },
  {
   "cell_type": "markdown",
   "metadata": {},
   "source": [
    "Finalmente este servicio queda definido por una sola query ejecutada en una **Cloud Function**, a continuación un ejemplo de como se ejecuta la query.\n",
    "\n",
    "```sql\n",
    "SELECT strftime('%W', datetime) WeekNumber, count(*) as trips_per_week\n",
    "  from trips as t\n",
    "  where region == 'Hamburg'\n",
    "  and origin_lat between 53.4 and 53.7\n",
    "  and origin_lon between 9.5 and 10.2\n",
    "  and destination_lat between 53.4 and 53.7\n",
    "  and destination_lon between 9.5 and 10.2\n",
    "  GROUP by WeekNumber;\n",
    "```\n",
    "\n",
    "El servicio esta definido en `apps/mean_trips/mean_trips/infrastructure/repositories/trips_weekly_metric_sql_repository.py` y se ejecuta a través de un caso de uso desde el main `apps/mean_trips/main.py`."
   ]
  },
  {
   "cell_type": "code",
   "execution_count": 40,
   "metadata": {},
   "outputs": [
    {
     "name": "stderr",
     "output_type": "stream",
     "text": [
      "INFO:mean_trips.infrastructure.repositories.trips_weekly_metric_sql_repository:Executing query: \n",
      "        with weekly_trips as (\n",
      "            SELECT strftime('%W', datetime) WeekNumber, count(*) as trips_per_week\n",
      "            from trips as t\n",
      "            where region == 'Hamburg'\n",
      "            and origin_lat between 53.4 and 53.7\n",
      "            and origin_lon between 9.5 and 10.2\n",
      "            and destination_lat between 53.4 and 53.7\n",
      "            and destination_lon between 9.5 and 10.2\n",
      "            GROUP by WeekNumber\n",
      "        )\n",
      "        SELECT AVG(trips_per_week) from weekly_trips;\n",
      "        \n",
      "INFO:root:{'mean_trips': 4.0, 'region': 'Hamburg', 'min_lat': 53.4, 'max_lat': 53.7, 'min_lon': 9.5, 'max_lon': 10.2}\n"
     ]
    }
   ],
   "source": [
    "import sys\n",
    "\n",
    "sys.path.append('../apps/mean_trips/')\n",
    "\n",
    "import logging\n",
    "from sqlalchemy import create_engine\n",
    "from mean_trips.domain.models.trip_weely_metric import TripWeeklyMetric\n",
    "\n",
    "from mean_trips.infrastructure.repositories.trips_weekly_metric_sql_repository import (\n",
    "    TripWeeklyMetricSQLRepository,\n",
    ")\n",
    "from mean_trips.use_cases.trips_weekly_metric_use_case import (\n",
    "    TripsWeeklyMetricUseCase,\n",
    ")\n",
    "\n",
    "\n",
    "if __name__ == \"__main__\":\n",
    "\n",
    "    payload: TripWeeklyMetric = {\n",
    "        \"region\": \"Hamburg\",\n",
    "        \"min_lat\": 53.4,\n",
    "        \"max_lat\": 53.7,\n",
    "        \"min_lon\": 9.5,\n",
    "        \"max_lon\": 10.2,\n",
    "    }\n",
    "\n",
    "    use_cases = {\n",
    "        \"trips_weekly\": TripsWeeklyMetricUseCase(\n",
    "            repository=TripWeeklyMetricSQLRepository(\n",
    "                engine=create_engine(\n",
    "                    \"sqlite:///../data/processed.db\", echo=False\n",
    "                ),\n",
    "            ),\n",
    "        )\n",
    "    }\n",
    "\n",
    "    metric_use_case = use_cases[\"trips_weekly\"]\n",
    "    result = metric_use_case.execute(\n",
    "        entity=payload,\n",
    "    )\n",
    "    logging.info(result)\n"
   ]
  },
  {
   "cell_type": "markdown",
   "metadata": {},
   "source": [
    "Esto es solo un ejemplo Local de lo que puede hacer desde una llamada a una API, pero el servicio esta definido para ser ejecutado en una Cloud Function, y la query se ejecuta en una base de datos en la nube."
   ]
  },
  {
   "cell_type": "markdown",
   "metadata": {},
   "source": [
    "### b. Report the status of the data ingestion process"
   ]
  },
  {
   "cell_type": "markdown",
   "metadata": {},
   "source": [
    "Finalmente no alcance a implementar en la nube los servicios como esperaba pero deje los códigos suficientes para una arquitectura basada en eventos. Por razones de tiempo no se respeto DRY y se repitieron partes del código, pero se puede ver que la arquitectura es la misma.\n",
    "\n",
    "Los archivos que definen el sistema de eventos son:\n",
    "\n",
    "- `apps/**/**/infrastructure/api/local_notifications.py`\n",
    "- `apps/**/**/infrastructure/api/gcp_notifications.py`\n",
    "- `apps/**/**/domain/ports/notifications_port.py`"
   ]
  },
  {
   "cell_type": "markdown",
   "metadata": {},
   "source": [
    "El puerto que define todas las interfaces de comunicación es bien simple, solo tiene un método `notify` que recibe un mensaje y lo envía a la plataforma de notificaciones correspondiente.\n",
    "\n",
    "```python\n",
    "from abc import ABCMeta, abstractmethod\n",
    "\n",
    "\n",
    "class NotificationsPort(metaclass=ABCMeta):\n",
    "    @abstractmethod\n",
    "    def notify(self, message: str) -> None:\n",
    "        pass\n",
    "\n",
    "```"
   ]
  },
  {
   "cell_type": "markdown",
   "metadata": {},
   "source": [
    "Asi cualquier subscriptor puede implementar el protocolo de comunicación y recibir los mensajes de notificación. Esto permite reaccionar a los eventos de manera dinámica, desestructurado un json que siempre viene con el campo `code` y `message`. El código es un identificador del evento y el mensaje es un texto que describe el evento.\n",
    "\n",
    "```json\n",
    "  {\n",
    "    \"code\": \"TRANSFORMING\",\n",
    "    \"message\": \"Received file\",\n",
    "    \"file\": \"landing/trips.csv\"\n",
    "  }\n",
    "```"
   ]
  },
  {
   "cell_type": "markdown",
   "metadata": {},
   "source": [
    "## 3. Scalability"
   ]
  },
  {
   "cell_type": "markdown",
   "metadata": {},
   "source": [
    "Esta solución es principalmente escalable pues al momento del procesamiento de esta basan en una arquitectura de eventos en la nube. Esto permite que el procesamiento de los datos sea escalable y se pueda escalar horizontalmente.\n",
    "\n",
    "El punto clave para que esta solución sea escalable esta en la fase de landing de los archivos CSV, dado que en esta etapa se separan los archivos en chunks de a los mas 320000 registros que son aproximadamente ~128MB de tamaño y este parámetro es totalmente configurable dependiendo del caso de uso. Además nos permite procesar de manera eficiente los datos en paralelo, dado que cada chunk es un archivo independiente. Esto permite que el procesamiento de los datos sea escalable y se pueda escalar verticalmente en caso de ser necesario.\n",
    "\n",
    "Durante esta fase ademas se realiza una transformación de los datos a parquet, este siendo un formato de almacenamiento de datos columnar que permite un mejor rendimiento en la lectura de los datos al momento de particionar por region. Ademas reduce el tamaño de los datos en memoria.\n",
    "\n",
    "Finalmente en la fase de transformación de los datos se realiza una clusterización de los datos, esto permite agrupar los datos en clusters de viajes similares y reducir la dimensionalidad del problema. Este proceso a pesar de ser computacionalmente costoso, es necesario para poder realizar una métrica de viajes semanales. Pero dado que se asume un procesamiento de datos bajo demanda, los datos deberian ser cercanos entre si y no deberia generar inconvenientes. Esto principalmente porque se utilizo una mezcla de gaussianas bayesianas para la clusterización, lo que permite que el algoritmo se adapte a los datos , el numero de clusters sea dinámico y no se necesite tanta memoria para realizar el proceso. Esto en comparacion a k-means que es un algoritmo que necesita de un numero de clusters fijo y que requiere de una gran cantidad de memoria para realizar el proceso. Esto no es deseable pues es muy probable que existan menos clusters que el numero de clusters fijos que se le asignen al algoritmo.\n",
    "\n",
    "Finalmente la solución esta pensada para que distintos consolidadores de datos puedan ser agregados a la arquitectura generando su propia fase de landing."
   ]
  },
  {
   "cell_type": "markdown",
   "metadata": {},
   "source": [
    "## Extra: Configuration on GCP"
   ]
  },
  {
   "cell_type": "markdown",
   "metadata": {},
   "source": [
    "![Arquitectura](../docs/events.png)"
   ]
  },
  {
   "cell_type": "markdown",
   "metadata": {},
   "source": [
    "La arquitectura que propongo se basa principalmente de eventos, dependiendo de la fuente de datos a procesar se tiene que pasar por una etapa de landing esto con el objetivo de tener un 'store first approach'. En el caso de los datos de streaming estos se deben acumular por una ventana de tiempo para poder realizar un procesamiento eficiente de los datos en especial para poder alcanzar el tamaño de chunk necesario para obtener la mejor velocidad de transferencia desde el bucket de origen a la función de procesamiento.\n",
    "\n",
    "Al entrar a la etapa de bronce los datos tienen que estar en un formato de almacenamiento homologado, esto con el objetivo que un mismo cluster de funciones pueda procesar datos de distintas fuentes. Incluí una tabla de locks en firestore para evitar que dos funciones procesen el mismo archivo al mismo tiempo y pues es una solución con baja latencia, no requiere de una base de datos relacional y es escalable.\n",
    "\n",
    "Previo a la etapa Gold se realiza en paralelo la clusterizacion del dataset en una maquina de cloudrun que podría ser escalada horizontalmente en caso de ser necesario. Esta etapa es computacionalmente costosa y por eso se realiza en paralelo a la etapa de transformación de los datos. Devolviendo solamente los modelos correspondientes.\n",
    "\n",
    "En paralelo se realiza el traspaso cargando el modelo de clusterización en memoria y clasificando los datos en los clusters correspondientes. \n",
    "\n",
    "Finalmente se pasa a la etapa Gold(Big Query) donde los datos quedan disponibles como métricas para ser consultadas por cualquier servicio que las necesite. Ademas el cliente puede realizar consultas sobre los datos para obtener métricas a través de un servicio de Google Cloud functions.\n",
    "\n",
    "\n"
   ]
  },
  {
   "cell_type": "markdown",
   "metadata": {},
   "source": []
  }
 ],
 "metadata": {
  "kernelspec": {
   "display_name": "Python 3.9.7 ('movement-patterns-hAuNFaCb-py3.9')",
   "language": "python",
   "name": "python3"
  },
  "language_info": {
   "codemirror_mode": {
    "name": "ipython",
    "version": 3
   },
   "file_extension": ".py",
   "mimetype": "text/x-python",
   "name": "python",
   "nbconvert_exporter": "python",
   "pygments_lexer": "ipython3",
   "version": "3.9.7"
  },
  "orig_nbformat": 4,
  "vscode": {
   "interpreter": {
    "hash": "b5e85f40b6a634ddb70fa6e4e8cf8e190fec0d3254bc96abcbf4172b3e37b133"
   }
  }
 },
 "nbformat": 4,
 "nbformat_minor": 2
}
